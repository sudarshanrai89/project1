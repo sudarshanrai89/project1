{
 "cells": [
  {
   "cell_type": "code",
   "execution_count": 1,
   "metadata": {},
   "outputs": [],
   "source": [
    "class Customer:\n",
    "    \n",
    "    custId = 0\n",
    "    def __init__(self,custName,typeOfroom):        \n",
    "        self.custName = custName\n",
    "        self.typeOfroom = typeOfroom\n",
    "        Customer.custId  += 1\n",
    "        self.customId = Customer.custId\n",
    "        #self.bookId = bookId\n",
    "        \n",
    "   \n",
    "       \n",
    "               \n",
    "class Rooms:\n",
    "    def __init__(self,number,idforCust=None):\n",
    "        self.number = number\n",
    "        # Id of the customer  for whom the room is booked\n",
    "        self.idforCust = idforCust       \n",
    "        #cost for different types of rooms\n",
    "        self.cost = {'penthouse':1000 ,'ordinary':100}\n",
    "        \n",
    "        \n",
    "     "
   ]
  },
  {
   "cell_type": "code",
   "execution_count": 2,
   "metadata": {},
   "outputs": [],
   "source": [
    "# Global function that has total rooms\n",
    "def roomallocate(num):\n",
    "    emptylist = []\n",
    "    \n",
    "    for item in range(num , num+10):\n",
    "        emptylist.append(Rooms(item))\n",
    "    return(emptylist)\n",
    "        \n",
    "roommap = {'penthouse':roomallocate(100) , 'ordinary':roomallocate(110)}        \n",
    "    "
   ]
  },
  {
   "cell_type": "code",
   "execution_count": 3,
   "metadata": {},
   "outputs": [],
   "source": [
    "import pdb\n",
    "class Bookings:\n",
    "    #customer list for whom the rooms have been booked\n",
    "    customers = []\n",
    "    #Room list record for tghe booked customers\n",
    "    rooms = []\n",
    "    \n",
    "                \n",
    "    def add_customers(self,name,typeRoom):\n",
    "              \n",
    "        self.customers.append(Customer(name,typeRoom))\n",
    "        return(Customer.custId )\n",
    "        \n",
    "               \n",
    "                 \n",
    "    def schedule_Rooms(self,typeofRoom,num,Id):\n",
    "        #self.newlist = []\n",
    "        #if(roommap[typeofRoom]):\n",
    "        self.newlist = roommap[typeofRoom][0:num]\n",
    "        \n",
    "        #storing the information in the room list ie reserving the rooms \n",
    "        for item in roommap[typeofRoom][0:num]:\n",
    "              item.idforCust = Id \n",
    "        self.rooms.extend(roommap[typeofRoom][0:num])\n",
    "        \n",
    "        del roommap[typeofRoom][0:num]      \n",
    "        return(self.newlist)\n",
    "    \n",
    "    \n",
    "    def __str__(self):\n",
    "        pass\n",
    "        #return \"the cust name\" + [item.custName for item in Bookings.customers]\n",
    "                "
   ]
  },
  {
   "cell_type": "code",
   "execution_count": 8,
   "metadata": {},
   "outputs": [
    {
     "name": "stdout",
     "output_type": "stream",
     "text": [
      "ERROR! Session/line number was not unique in database. History logging moved to new session 280\n",
      "enter the customer namemahesh\n",
      "Enter the Hotel Reservation Sytem \n",
      "Enter the type of room :penthouse or Ordinary\n",
      "pentho\n",
      "Enter the correct type of room\n",
      "\n",
      "Enter the type of room :penthouse or Ordinary\n",
      "penthouse\n",
      "the total no of rooms available 5\n",
      "\n",
      "Enter the no of rooms3\n",
      "\n",
      " Sucuessfully booked the rooms for Mr./Ms mahesh \n",
      "\n",
      " The room nos are the following : [105, 106, 107] \n",
      "\n",
      " The total cost of the rooms : 3000\n",
      "would you like to make another reservationy\n",
      "Enter the type of room :penthouse or Ordinary\n",
      "ordinary\n",
      "the total no of rooms available 5\n",
      "\n",
      "Enter the no of rooms2\n",
      "\n",
      " Sucuessfully booked the rooms for Mr./Ms mahesh \n",
      "\n",
      " The room nos are the following : [115, 116] \n",
      "\n",
      " The total cost of the rooms : 200\n",
      "would you like to make another reservationn\n",
      "Thank You\n"
     ]
    }
   ],
   "source": [
    "name = input(\"enter the customer name\")\n",
    "bk = Bookings()\n",
    "print(\"Enter the Hotel Reservation Sytem \")\n",
    "while(True):\n",
    "    \n",
    "    \n",
    "    typeRoom = input(\"Enter the type of room :penthouse or Ordinary\\n\")\n",
    "    \n",
    "    try: \n",
    "        print(\"the total no of rooms available {}\\n\".format((len(roommap[typeRoom]))))\n",
    "    except:\n",
    "        print(\"Enter the correct type of room\\n\")\n",
    "        continue\n",
    "      \n",
    "    if(len(roommap['penthouse']) == 0 and len(roommap['ordinary']) == 0):\n",
    "        print(\"All rooms are booked cannot make any reservation \\n\")\n",
    "        break\n",
    "    elif(len(roommap[typeRoom]) > 0):        \n",
    "        \n",
    "        noofRooms = int(input(\"Enter the no of rooms\"))\n",
    "    else:\n",
    "        \n",
    "        print(\"The {} rooms are all booked\\n \".format(typeRoom))\n",
    "        var = input(\"would you like to reserve diff room type?\\n\")\n",
    "        if(var[0].lower() == 'y'):\n",
    "            continue\n",
    "        else:\n",
    "            break\n",
    "        \n",
    "    Id = bk.add_customers(name,typeRoom)             \n",
    "    newlist = bk.schedule_Rooms(typeRoom,noofRooms,Id)\n",
    "    #if(newlist):          \n",
    "    print(\"\\n Sucuessfully booked the rooms for Mr./Ms {} \".format(name))\n",
    "    print(\"\\n The room nos are the following : {} \".format([x.number for x in newlist]))\n",
    "    print (\"\\n The total cost of the rooms : {}\".format(sum([item.cost[typeRoom] for item in newlist])))\n",
    "                                       \n",
    "    var = input(\"would you like to make another reservation\")\n",
    "    if(var[0].lower() == 'y'):\n",
    "        \n",
    "        continue\n",
    "    else:\n",
    "            \n",
    "        break\n",
    "print(\"Thank You\")      "
   ]
  },
  {
   "cell_type": "code",
   "execution_count": 9,
   "metadata": {},
   "outputs": [
    {
     "name": "stdout",
     "output_type": "stream",
     "text": [
      "1 ajfakjfh penthouse\n",
      "2 ajfakjfh ordinary\n",
      "3 mahesh penthouse\n",
      "4 mahesh ordinary\n"
     ]
    }
   ],
   "source": [
    "for item in Bookings.customers:\n",
    "    print(item.customId,item.custName,item.typeOfroom)\n",
    "    \n",
    "\n"
   ]
  },
  {
   "cell_type": "code",
   "execution_count": 11,
   "metadata": {},
   "outputs": [
    {
     "name": "stdout",
     "output_type": "stream",
     "text": [
      "100 1\n",
      "101 1\n",
      "102 1\n",
      "103 1\n",
      "104 1\n",
      "110 2\n",
      "111 2\n",
      "112 2\n",
      "113 2\n",
      "114 2\n",
      "105 3\n",
      "106 3\n",
      "107 3\n",
      "115 4\n",
      "116 4\n"
     ]
    }
   ],
   "source": [
    "for item in Bookings.rooms:\n",
    "    print(item.number,item.idforCust)"
   ]
  },
  {
   "cell_type": "code",
   "execution_count": null,
   "metadata": {},
   "outputs": [],
   "source": []
  }
 ],
 "metadata": {
  "kernelspec": {
   "display_name": "Python 3",
   "language": "python",
   "name": "python3"
  },
  "language_info": {
   "codemirror_mode": {
    "name": "ipython",
    "version": 3
   },
   "file_extension": ".py",
   "mimetype": "text/x-python",
   "name": "python",
   "nbconvert_exporter": "python",
   "pygments_lexer": "ipython3",
   "version": "3.7.1"
  }
 },
 "nbformat": 4,
 "nbformat_minor": 2
}
